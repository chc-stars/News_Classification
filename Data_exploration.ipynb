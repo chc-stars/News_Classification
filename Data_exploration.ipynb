{
 "cells": [
  {
   "cell_type": "code",
   "execution_count": 1,
   "metadata": {
    "ExecuteTime": {
     "end_time": "2021-07-08T02:27:31.048571Z",
     "start_time": "2021-07-08T02:27:29.967165Z"
    }
   },
   "outputs": [],
   "source": [
    "import numpy as np\n",
    "import pandas as pd"
   ]
  },
  {
   "cell_type": "code",
   "execution_count": 2,
   "metadata": {
    "ExecuteTime": {
     "end_time": "2021-07-08T02:27:38.026686Z",
     "start_time": "2021-07-08T02:27:31.052571Z"
    }
   },
   "outputs": [],
   "source": [
    "df_train = pd.read_csv('data/train.txt', sep='\\t')\n",
    "df_test = pd.read_csv('data/test.txt', sep='\\t')"
   ]
  },
  {
   "cell_type": "markdown",
   "metadata": {},
   "source": [
    "### 查看简单数据"
   ]
  },
  {
   "cell_type": "code",
   "execution_count": 3,
   "metadata": {
    "ExecuteTime": {
     "end_time": "2021-07-08T02:27:38.071222Z",
     "start_time": "2021-07-08T02:27:38.028687Z"
    }
   },
   "outputs": [
    {
     "data": {
      "text/html": [
       "<div>\n",
       "<style scoped>\n",
       "    .dataframe tbody tr th:only-of-type {\n",
       "        vertical-align: middle;\n",
       "    }\n",
       "\n",
       "    .dataframe tbody tr th {\n",
       "        vertical-align: top;\n",
       "    }\n",
       "\n",
       "    .dataframe thead th {\n",
       "        text-align: right;\n",
       "    }\n",
       "</style>\n",
       "<table border=\"1\" class=\"dataframe\">\n",
       "  <thead>\n",
       "    <tr style=\"text-align: right;\">\n",
       "      <th></th>\n",
       "      <th>label</th>\n",
       "      <th>content</th>\n",
       "    </tr>\n",
       "  </thead>\n",
       "  <tbody>\n",
       "    <tr>\n",
       "      <th>0</th>\n",
       "      <td>体育</td>\n",
       "      <td>马晓旭意外受伤让国奥警惕 无奈大雨格外青睐殷家军记者傅亚雨沈阳报道 来到沈阳，国奥队依然没有...</td>\n",
       "    </tr>\n",
       "    <tr>\n",
       "      <th>1</th>\n",
       "      <td>体育</td>\n",
       "      <td>商瑞华首战复仇心切 中国玫瑰要用美国方式攻克瑞典多曼来了，瑞典来了，商瑞华首战求3分的信心也...</td>\n",
       "    </tr>\n",
       "    <tr>\n",
       "      <th>2</th>\n",
       "      <td>体育</td>\n",
       "      <td>冠军球队迎新欢乐派对 黄旭获大奖张军赢下PK赛新浪体育讯12月27日晚，“冠军高尔夫球队迎新...</td>\n",
       "    </tr>\n",
       "    <tr>\n",
       "      <th>3</th>\n",
       "      <td>体育</td>\n",
       "      <td>辽足签约危机引注册难关 高层威逼利诱合同笑里藏刀新浪体育讯2月24日，辽足爆发了集体拒签风波...</td>\n",
       "    </tr>\n",
       "    <tr>\n",
       "      <th>4</th>\n",
       "      <td>体育</td>\n",
       "      <td>揭秘谢亚龙被带走：总局电话骗局 复制南杨轨迹体坛周报特约记者张锐北京报道  谢亚龙已经被公安...</td>\n",
       "    </tr>\n",
       "  </tbody>\n",
       "</table>\n",
       "</div>"
      ],
      "text/plain": [
       "  label                                            content\n",
       "0    体育  马晓旭意外受伤让国奥警惕 无奈大雨格外青睐殷家军记者傅亚雨沈阳报道 来到沈阳，国奥队依然没有...\n",
       "1    体育  商瑞华首战复仇心切 中国玫瑰要用美国方式攻克瑞典多曼来了，瑞典来了，商瑞华首战求3分的信心也...\n",
       "2    体育  冠军球队迎新欢乐派对 黄旭获大奖张军赢下PK赛新浪体育讯12月27日晚，“冠军高尔夫球队迎新...\n",
       "3    体育  辽足签约危机引注册难关 高层威逼利诱合同笑里藏刀新浪体育讯2月24日，辽足爆发了集体拒签风波...\n",
       "4    体育  揭秘谢亚龙被带走：总局电话骗局 复制南杨轨迹体坛周报特约记者张锐北京报道  谢亚龙已经被公安..."
      ]
     },
     "execution_count": 3,
     "metadata": {},
     "output_type": "execute_result"
    }
   ],
   "source": [
    "df_train.head()\n"
   ]
  },
  {
   "cell_type": "code",
   "execution_count": 4,
   "metadata": {
    "ExecuteTime": {
     "end_time": "2021-07-08T02:27:38.080224Z",
     "start_time": "2021-07-08T02:27:38.074223Z"
    }
   },
   "outputs": [
    {
     "data": {
      "text/plain": [
       "126476"
      ]
     },
     "execution_count": 4,
     "metadata": {},
     "output_type": "execute_result"
    }
   ],
   "source": [
    "len(df_train)"
   ]
  },
  {
   "cell_type": "markdown",
   "metadata": {},
   "source": [
    "### 查看第一条内容的长度和数据类型"
   ]
  },
  {
   "cell_type": "code",
   "execution_count": 5,
   "metadata": {
    "ExecuteTime": {
     "end_time": "2021-07-08T02:27:38.090226Z",
     "start_time": "2021-07-08T02:27:38.082224Z"
    }
   },
   "outputs": [
    {
     "data": {
      "text/plain": [
       "(746, str)"
      ]
     },
     "execution_count": 5,
     "metadata": {},
     "output_type": "execute_result"
    }
   ],
   "source": [
    "len(df_train['content'][0]), type(df_train['content'][0])"
   ]
  },
  {
   "cell_type": "markdown",
   "metadata": {},
   "source": [
    "### 编写统计字符的函数"
   ]
  },
  {
   "cell_type": "code",
   "execution_count": 6,
   "metadata": {
    "ExecuteTime": {
     "end_time": "2021-07-08T02:27:38.110233Z",
     "start_time": "2021-07-08T02:27:38.096228Z"
    }
   },
   "outputs": [],
   "source": [
    "#  total函数用于统计content的字数\n",
    "\n",
    "def total_train(data_len):\n",
    "    num_train = []\n",
    "    for i in range(data_len):\n",
    "        j = len(df_train['content'][i])       \n",
    "        num_train.append(j)        \n",
    "    return num_train\n",
    "    \n",
    "def total_test(data_len):\n",
    "    num_test = []\n",
    "    for i in range(data_len):\n",
    "        j = len(df_test['content'][i])\n",
    "        num_test.append(j)          \n",
    "    return num_test\n",
    "    \n",
    "    "
   ]
  },
  {
   "cell_type": "code",
   "execution_count": 7,
   "metadata": {
    "ExecuteTime": {
     "end_time": "2021-07-08T02:27:39.386033Z",
     "start_time": "2021-07-08T02:27:38.114234Z"
    }
   },
   "outputs": [],
   "source": [
    "# 求测试集的每个内容长度\n",
    "total_trains = total_train(len(df_train))"
   ]
  },
  {
   "cell_type": "code",
   "execution_count": 8,
   "metadata": {
    "ExecuteTime": {
     "end_time": "2021-07-08T02:27:39.562078Z",
     "start_time": "2021-07-08T02:27:39.387033Z"
    }
   },
   "outputs": [],
   "source": [
    "# 求测试集的每个内容长度\n",
    "total_tests = total_test(len(df_test))\n"
   ]
  },
  {
   "cell_type": "markdown",
   "metadata": {},
   "source": [
    "### 使用describe函数查看训练集和测试集中的数据长度分布"
   ]
  },
  {
   "cell_type": "code",
   "execution_count": 9,
   "metadata": {
    "ExecuteTime": {
     "end_time": "2021-07-08T02:27:39.664101Z",
     "start_time": "2021-07-08T02:27:39.565076Z"
    }
   },
   "outputs": [
    {
     "data": {
      "text/plain": [
       "count    126476.000000\n",
       "mean        921.445223\n",
       "std         905.348210\n",
       "min           8.000000\n",
       "25%         407.000000\n",
       "50%         699.000000\n",
       "75%        1144.000000\n",
       "max       50593.000000\n",
       "dtype: float64"
      ]
     },
     "execution_count": 9,
     "metadata": {},
     "output_type": "execute_result"
    }
   ],
   "source": [
    "pd.Series(total_trains).describe()\n"
   ]
  },
  {
   "cell_type": "code",
   "execution_count": 10,
   "metadata": {
    "ExecuteTime": {
     "end_time": "2021-07-08T02:27:39.717132Z",
     "start_time": "2021-07-08T02:27:39.668101Z"
    }
   },
   "outputs": [
    {
     "data": {
      "text/plain": [
       "count    19904.000000\n",
       "mean       890.293258\n",
       "std        823.888594\n",
       "min          8.000000\n",
       "25%        421.000000\n",
       "50%        660.000000\n",
       "75%       1082.000000\n",
       "max      16088.000000\n",
       "dtype: float64"
      ]
     },
     "execution_count": 10,
     "metadata": {},
     "output_type": "execute_result"
    }
   ],
   "source": [
    "pd.Series(total_tests).describe()"
   ]
  },
  {
   "cell_type": "markdown",
   "metadata": {},
   "source": [
    "### 直方图"
   ]
  },
  {
   "cell_type": "code",
   "execution_count": 11,
   "metadata": {
    "ExecuteTime": {
     "end_time": "2021-07-08T02:27:43.509122Z",
     "start_time": "2021-07-08T02:27:39.723112Z"
    }
   },
   "outputs": [
    {
     "data": {
      "image/png": "[encoded data removed]",
      "text/plain": [
       "<Figure size 864x432 with 1 Axes>"
      ]
     },
     "metadata": {
      "needs_background": "light"
     },
     "output_type": "display_data"
    }
   ],
   "source": [
    "import matplotlib.pyplot as plt\n",
    "fig, ax = plt.subplots(1,1,figsize=(12,6))\n",
    "\n",
    "ax = plt.hist(x=total_trains, bins=100)\n",
    "ax = plt.hist(x=total_tests, bins=100)\n",
    "\n",
    "plt.xlim([0, max(max(total_trains), max(total_tests))])\n",
    "plt.xlabel(\"length of sample\")\n",
    "plt.ylabel(\"number of sample\")\n",
    "plt.legend(['train_len','test_len'])\n",
    "\n",
    "plt.show()"
   ]
  },
  {
   "cell_type": "markdown",
   "metadata": {
    "ExecuteTime": {
     "end_time": "2021-06-21T06:31:12.101401Z",
     "start_time": "2021-06-21T06:31:12.095408Z"
    }
   },
   "source": [
    "使用seaborn绘制更好的图。seaborn计算的纵坐标是频率，而不是出现次数。由于训练集和测试集的数据量不一样，因此用频率更加科学、更能看出是否符合同一分布。"
   ]
  },
  {
   "cell_type": "code",
   "execution_count": 12,
   "metadata": {
    "ExecuteTime": {
     "end_time": "2021-07-08T02:27:52.029020Z",
     "start_time": "2021-07-08T02:27:43.511123Z"
    }
   },
   "outputs": [
    {
     "name": "stderr",
     "output_type": "stream",
     "text": [
      "D:\\Anaconda3\\envs\\PyTorch\\lib\\site-packages\\seaborn\\distributions.py:2557: FutureWarning: `distplot` is a deprecated function and will be removed in a future version. Please adapt your code to use either `displot` (a figure-level function with similar flexibility) or `histplot` (an axes-level function for histograms).\n",
      "  warnings.warn(msg, FutureWarning)\n",
      "D:\\Anaconda3\\envs\\PyTorch\\lib\\site-packages\\seaborn\\distributions.py:2557: FutureWarning: `distplot` is a deprecated function and will be removed in a future version. Please adapt your code to use either `displot` (a figure-level function with similar flexibility) or `histplot` (an axes-level function for histograms).\n",
      "  warnings.warn(msg, FutureWarning)\n"
     ]
    },
    {
     "data": {
      "text/plain": [
       "<matplotlib.legend.Legend at 0x2671f4607f0>"
      ]
     },
     "execution_count": 12,
     "metadata": {},
     "output_type": "execute_result"
    },
    {
     "data": {
      "image/png": "[encoded data removed]",
      "text/plain": [
       "<Figure size 1080x360 with 1 Axes>"
      ]
     },
     "metadata": {
      "needs_background": "light"
     },
     "output_type": "display_data"
    }
   ],
   "source": [
    "import seaborn as sns\n",
    "plt.figure(figsize=(15,5))\n",
    "ax = sns.distplot(total_trains, bins=100)\n",
    "ax = sns.distplot(total_tests, bins=100)\n",
    "plt.xlim([0, max(max(total_trains), max(total_tests))])\n",
    "plt.xlabel(\"length of sample\")\n",
    "plt.ylabel(\"prob of sample\")\n",
    "plt.legend(['train_len','test_len'])"
   ]
  },
  {
   "cell_type": "markdown",
   "metadata": {},
   "source": [
    "### 同分布验证"
   ]
  },
  {
   "cell_type": "code",
   "execution_count": 13,
   "metadata": {
    "ExecuteTime": {
     "end_time": "2021-07-08T02:27:52.160049Z",
     "start_time": "2021-07-08T02:27:52.032021Z"
    }
   },
   "outputs": [
    {
     "data": {
      "text/plain": [
       "KstestResult(statistic=0.03764180530571537, pvalue=1.312219233956745e-21)"
      ]
     },
     "execution_count": 13,
     "metadata": {},
     "output_type": "execute_result"
    }
   ],
   "source": [
    "import scipy\n",
    "scipy.stats.ks_2samp(total_trains, total_tests)"
   ]
  },
  {
   "cell_type": "markdown",
   "metadata": {
    "ExecuteTime": {
     "end_time": "2021-06-21T06:49:56.358562Z",
     "start_time": "2021-06-21T06:49:56.354569Z"
    }
   },
   "source": [
    "P值为0.425，比指定的显著水平（假设为5%）小，我们我们暂时认为二者同分布"
   ]
  },
  {
   "cell_type": "markdown",
   "metadata": {},
   "source": [
    "### 截断长度"
   ]
  },
  {
   "cell_type": "markdown",
   "metadata": {},
   "source": [
    "#### 验证是否为正态分布"
   ]
  },
  {
   "cell_type": "code",
   "execution_count": 14,
   "metadata": {
    "ExecuteTime": {
     "end_time": "2021-07-08T02:27:54.269136Z",
     "start_time": "2021-07-08T02:27:52.164054Z"
    }
   },
   "outputs": [
    {
     "name": "stderr",
     "output_type": "stream",
     "text": [
      "D:\\Anaconda3\\envs\\PyTorch\\lib\\site-packages\\seaborn\\distributions.py:2557: FutureWarning: `distplot` is a deprecated function and will be removed in a future version. Please adapt your code to use either `displot` (a figure-level function with similar flexibility) or `histplot` (an axes-level function for histograms).\n",
      "  warnings.warn(msg, FutureWarning)\n",
      "D:\\Anaconda3\\envs\\PyTorch\\lib\\site-packages\\seaborn\\distributions.py:2557: FutureWarning: `distplot` is a deprecated function and will be removed in a future version. Please adapt your code to use either `displot` (a figure-level function with similar flexibility) or `histplot` (an axes-level function for histograms).\n",
      "  warnings.warn(msg, FutureWarning)\n"
     ]
    },
    {
     "data": {
      "text/plain": [
       "<matplotlib.legend.Legend at 0x267411ba978>"
      ]
     },
     "execution_count": 14,
     "metadata": {},
     "output_type": "execute_result"
    },
    {
     "data": {
      "image/png": "[encoded data removed]",
      "text/plain": [
       "<Figure size 1080x360 with 1 Axes>"
      ]
     },
     "metadata": {
      "needs_background": "light"
     },
     "output_type": "display_data"
    }
   ],
   "source": [
    "log_len_dist = np.log(total_trains)\n",
    "log_len_test_dist = np.log(total_tests)\n",
    "plt.figure(figsize=(15,5))\n",
    "ax = sns.distplot(log_len_dist)\n",
    "ax = sns.distplot(log_len_test_dist)\n",
    "plt.xlabel(\"log length of sample\")\n",
    "plt.ylabel(\"prob of log\")\n",
    "plt.legend(['train_len','test_len'])"
   ]
  },
  {
   "cell_type": "code",
   "execution_count": 15,
   "metadata": {
    "ExecuteTime": {
     "end_time": "2021-07-08T02:27:54.323178Z",
     "start_time": "2021-07-08T02:27:54.271138Z"
    }
   },
   "outputs": [
    {
     "data": {
      "text/plain": [
       "0.0"
      ]
     },
     "execution_count": 15,
     "metadata": {},
     "output_type": "execute_result"
    }
   ],
   "source": [
    "_, lognormal_ks_pvalue = scipy.stats.kstest(rvs=log_len_dist, cdf='norm')\n",
    "lognormal_ks_pvalue"
   ]
  },
  {
   "cell_type": "markdown",
   "metadata": {},
   "source": [
    "？0？？？拟合优度检验，p值为0，意思就是说这不是一个正态分布。"
   ]
  },
  {
   "cell_type": "markdown",
   "metadata": {
    "ExecuteTime": {
     "end_time": "2021-06-21T06:38:31.294290Z",
     "start_time": "2021-06-21T06:38:31.283737Z"
    }
   },
   "source": [
    "从log图上可以看出，数据分布的长度大多低于exp（8），所以截断长度设为3000."
   ]
  },
  {
   "cell_type": "code",
   "execution_count": 16,
   "metadata": {
    "ExecuteTime": {
     "end_time": "2021-07-08T02:27:54.332176Z",
     "start_time": "2021-07-08T02:27:54.326177Z"
    }
   },
   "outputs": [
    {
     "data": {
      "text/plain": [
       "2980.9579870417283"
      ]
     },
     "execution_count": 16,
     "metadata": {},
     "output_type": "execute_result"
    }
   ],
   "source": [
    "np.exp(8)"
   ]
  },
  {
   "cell_type": "markdown",
   "metadata": {},
   "source": [
    "### 类别分布"
   ]
  },
  {
   "cell_type": "code",
   "execution_count": 17,
   "metadata": {
    "ExecuteTime": {
     "end_time": "2021-07-08T02:27:54.339178Z",
     "start_time": "2021-07-08T02:27:54.334177Z"
    },
    "run_control": {
     "marked": false
    }
   },
   "outputs": [],
   "source": [
    "def total_class():\n",
    "    num_dict =[]\n",
    "    for i in range(len(df_train)):\n",
    "        num_dict.append(df_train['label'][i])\n",
    "    return num_dict  \n",
    "\n"
   ]
  },
  {
   "cell_type": "code",
   "execution_count": 18,
   "metadata": {
    "ExecuteTime": {
     "end_time": "2021-07-08T02:27:55.591088Z",
     "start_time": "2021-07-08T02:27:54.344180Z"
    }
   },
   "outputs": [],
   "source": [
    "total_classes = total_class()"
   ]
  },
  {
   "cell_type": "code",
   "execution_count": 19,
   "metadata": {
    "ExecuteTime": {
     "end_time": "2021-07-08T02:27:55.607601Z",
     "start_time": "2021-07-08T02:27:55.593632Z"
    }
   },
   "outputs": [
    {
     "name": "stdout",
     "output_type": "stream",
     "text": [
      "Counter({'体育': 15000, '娱乐': 15000, '房产': 15000, '教育': 15000, '游戏': 15000, '科技': 15000, '财经': 15000, '其他': 12991, '军事': 6080, '汽车': 2405})\n"
     ]
    }
   ],
   "source": [
    "from collections import Counter\n",
    "count = Counter(total_classes)\n",
    "print(count)"
   ]
  },
  {
   "cell_type": "code",
   "execution_count": 20,
   "metadata": {
    "ExecuteTime": {
     "end_time": "2021-07-08T02:27:55.620603Z",
     "start_time": "2021-07-08T02:27:55.613602Z"
    }
   },
   "outputs": [
    {
     "data": {
      "text/plain": [
       "collections.Counter"
      ]
     },
     "execution_count": 20,
     "metadata": {},
     "output_type": "execute_result"
    }
   ],
   "source": [
    "type(count)"
   ]
  },
  {
   "cell_type": "code",
   "execution_count": 21,
   "metadata": {
    "ExecuteTime": {
     "end_time": "2021-07-08T02:27:55.627609Z",
     "start_time": "2021-07-08T02:27:55.622607Z"
    }
   },
   "outputs": [
    {
     "data": {
      "text/plain": [
       "{'体育': 15000,\n",
       " '娱乐': 15000,\n",
       " '房产': 15000,\n",
       " '教育': 15000,\n",
       " '游戏': 15000,\n",
       " '科技': 15000,\n",
       " '财经': 15000,\n",
       " '其他': 12991,\n",
       " '军事': 6080,\n",
       " '汽车': 2405}"
      ]
     },
     "execution_count": 21,
     "metadata": {},
     "output_type": "execute_result"
    }
   ],
   "source": [
    "cc = {k:v for k,v in count.items()}\n",
    "cc"
   ]
  },
  {
   "cell_type": "code",
   "execution_count": 22,
   "metadata": {
    "ExecuteTime": {
     "end_time": "2021-07-08T02:27:55.635610Z",
     "start_time": "2021-07-08T02:27:55.629606Z"
    }
   },
   "outputs": [
    {
     "data": {
      "text/plain": [
       "dict_values([15000, 15000, 15000, 15000, 15000, 15000, 15000, 12991, 6080, 2405])"
      ]
     },
     "execution_count": 22,
     "metadata": {},
     "output_type": "execute_result"
    }
   ],
   "source": [
    "key = cc.keys()\n",
    "values = cc.values()\n",
    "key\n",
    "values"
   ]
  },
  {
   "cell_type": "code",
   "execution_count": 23,
   "metadata": {
    "ExecuteTime": {
     "end_time": "2021-07-08T02:27:55.927673Z",
     "start_time": "2021-07-08T02:27:55.639610Z"
    }
   },
   "outputs": [
    {
     "data": {
      "image/png": "[encoded data removed]",
      "text/plain": [
       "<Figure size 432x288 with 1 Axes>"
      ]
     },
     "metadata": {
      "needs_background": "light"
     },
     "output_type": "display_data"
    }
   ],
   "source": [
    "plt.rcParams['font.sans-serif'] = ['SimHei']\n",
    "plt.rcParams['axes.unicode_minus'] = False\n",
    "plt.bar(key,values)\n",
    "plt.xlabel(\"label\")\n",
    "plt.ylabel(\"number of sample\")\n",
    "plt.show()"
   ]
  },
  {
   "cell_type": "markdown",
   "metadata": {},
   "source": [
    "### 类别长度"
   ]
  },
  {
   "cell_type": "code",
   "execution_count": 24,
   "metadata": {
    "ExecuteTime": {
     "end_time": "2021-07-08T02:27:58.882433Z",
     "start_time": "2021-07-08T02:27:55.929675Z"
    }
   },
   "outputs": [
    {
     "data": {
      "text/plain": [
       "([<matplotlib.axis.XTick at 0x26742350da0>,\n",
       "  <matplotlib.axis.XTick at 0x26742350940>,\n",
       "  <matplotlib.axis.XTick at 0x267423811d0>,\n",
       "  <matplotlib.axis.XTick at 0x26742381780>,\n",
       "  <matplotlib.axis.XTick at 0x26742381c18>,\n",
       "  <matplotlib.axis.XTick at 0x267423890f0>,\n",
       "  <matplotlib.axis.XTick at 0x267423505c0>,\n",
       "  <matplotlib.axis.XTick at 0x267423c7e48>,\n",
       "  <matplotlib.axis.XTick at 0x267423d3320>,\n",
       "  <matplotlib.axis.XTick at 0x267423d37b8>],\n",
       " [Text(0, 0, '15000'),\n",
       "  Text(1, 0, '15000'),\n",
       "  Text(2, 0, '15000'),\n",
       "  Text(3, 0, '15000'),\n",
       "  Text(4, 0, '15000'),\n",
       "  Text(5, 0, '15000'),\n",
       "  Text(6, 0, '15000'),\n",
       "  Text(7, 0, '12991'),\n",
       "  Text(8, 0, '6080'),\n",
       "  Text(9, 0, '2405')])"
      ]
     },
     "execution_count": 24,
     "metadata": {},
     "output_type": "execute_result"
    },
    {
     "data": {
      "text/plain": [
       "<Figure size 432x288 with 0 Axes>"
      ]
     },
     "metadata": {},
     "output_type": "display_data"
    },
    {
     "data": {
      "image/png": "[encoded data removed]",
      "text/plain": [
       "<Figure size 360x360 with 1 Axes>"
      ]
     },
     "metadata": {
      "needs_background": "light"
     },
     "output_type": "display_data"
    }
   ],
   "source": [
    "df_train['len'] = df_train['content'].apply(lambda x: len(x.split()))\n",
    "plt.figure()\n",
    "ax = sns.catplot(x='label', y='len', data=df_train, kind='strip')\n",
    "plt.xticks(range(10), list(cc.values()),  rotation=60)"
   ]
  },
  {
   "cell_type": "code",
   "execution_count": null,
   "metadata": {},
   "outputs": [],
   "source": []
  },
  {
   "cell_type": "code",
   "execution_count": null,
   "metadata": {},
   "outputs": [],
   "source": []
  }
 ],
 "metadata": {
  "kernelspec": {
   "display_name": "Python [conda env:PyTorch]",
   "language": "python",
   "name": "conda-env-PyTorch-py"
  },
  "language_info": {
   "codemirror_mode": {
    "name": "ipython",
    "version": 3
   },
   "file_extension": ".py",
   "mimetype": "text/x-python",
   "name": "python",
   "nbconvert_exporter": "python",
   "pygments_lexer": "ipython3",
   "version": "3.6.13"
  },
  "toc": {
   "base_numbering": 1,
   "nav_menu": {},
   "number_sections": true,
   "sideBar": true,
   "skip_h1_title": false,
   "title_cell": "Table of Contents",
   "title_sidebar": "Contents",
   "toc_cell": false,
   "toc_position": {},
   "toc_section_display": true,
   "toc_window_display": false
  }
 },
 "nbformat": 4,
 "nbformat_minor": 4
}
